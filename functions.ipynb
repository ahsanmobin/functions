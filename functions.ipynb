{
  "nbformat": 4,
  "nbformat_minor": 0,
  "metadata": {
    "colab": {
      "provenance": []
    },
    "kernelspec": {
      "name": "python3",
      "display_name": "Python 3"
    },
    "language_info": {
      "name": "python"
    }
  },
  "cells": [
    {
      "cell_type": "markdown",
      "source": [
        "#functions"
      ],
      "metadata": {
        "id": "vBEj8coOItWi"
      }
    },
    {
      "cell_type": "markdown",
      "source": [
        " 1. What is the difference between a function and a method in Python?\n",
        "  - In Python, functions and methods are both blocks of reusable code, but there are key differences between them:\n",
        "\n",
        "  1. Function\n",
        "A function is a block of code that performs a specific task.\n",
        "\n",
        "     It is defined using the def keyword.\n",
        "\n",
        "     Functions can exist independently and are not tied to any object.\n",
        "\n",
        "     They are called using their name: function_name().\n",
        "\n",
        "     Example:"
      ],
      "metadata": {
        "id": "MBx3DwHDJBv0"
      }
    },
    {
      "cell_type": "code",
      "execution_count": null,
      "metadata": {
        "colab": {
          "base_uri": "https://localhost:8080/"
        },
        "id": "ZEmi-Z04IrDk",
        "outputId": "1c99d90f-a3c9-40f2-8d8f-96b00e00eea8"
      },
      "outputs": [
        {
          "output_type": "stream",
          "name": "stdout",
          "text": [
            "Hello, Ahsan\n"
          ]
        }
      ],
      "source": [
        "def greet(name):\n",
        "    return \"Hello, \" + name\n",
        "\n",
        "print(greet(\"Ahsan\"))\n"
      ]
    },
    {
      "cell_type": "markdown",
      "source": [
        "2. Explain the concept of function arguments and parameters in Python.\n",
        " - In Python, function arguments and parameters are both used to pass information into functions, but they refer to different things depending on where you're looking.\n",
        "   "
      ],
      "metadata": {
        "id": "Rdyro5VMJ9dC"
      }
    },
    {
      "cell_type": "code",
      "source": [
        "def greet(name):      # 'name' is a parameter\n",
        "    print(\"Hello,\", name)\n",
        "\n",
        "greet(\"Ahsan\")         # \"Ahsan\" is an argument\n"
      ],
      "metadata": {
        "colab": {
          "base_uri": "https://localhost:8080/"
        },
        "id": "1X8Vhr0jKjd_",
        "outputId": "5a28fe50-17db-4a60-ce14-80bf6d95d8b2"
      },
      "execution_count": null,
      "outputs": [
        {
          "output_type": "stream",
          "name": "stdout",
          "text": [
            "Hello, Ahsan\n"
          ]
        }
      ]
    },
    {
      "cell_type": "markdown",
      "source": [
        " 3. What are the different ways to define and call a function in Python?\n",
        "  - In Python, functions can be defined and called in several ways depending on your needs.\n",
        "  \n",
        "   Ways to Define a Function\n",
        "1. Standard Function Definition\n",
        "Using the def keyword:"
      ],
      "metadata": {
        "id": "XJF6ZUPaKlPl"
      }
    },
    {
      "cell_type": "code",
      "source": [
        "def greet(name=\"Guest\"):\n",
        "    return \"Hello, \" + name\n"
      ],
      "metadata": {
        "id": "fNctGDnKLaoF"
      },
      "execution_count": null,
      "outputs": []
    },
    {
      "cell_type": "markdown",
      "source": [
        "  4. What is the purpose of the `return` statement in a Python function?\n",
        "   - The return statement in a Python function is used to:\n",
        "\n",
        "     Purpose of return\n",
        "  - Send a value back to the place where the function was called.\n",
        "\n",
        "- End the function's execution immediately.\n",
        "\n",
        "- Optionally pass data from the function to the caller.\n",
        "\n"
      ],
      "metadata": {
        "id": "WEI2GexxKFgA"
      }
    },
    {
      "cell_type": "code",
      "source": [
        "def add(a, b):\n",
        "    return a + b\n",
        "\n",
        "result = add(3, 5)\n",
        "print(result)  # Output: 8\n"
      ],
      "metadata": {
        "colab": {
          "base_uri": "https://localhost:8080/"
        },
        "id": "S-GNM56NMV6n",
        "outputId": "4d0698ba-ee51-4ad9-d4b9-274d7a92ac56"
      },
      "execution_count": null,
      "outputs": [
        {
          "output_type": "stream",
          "name": "stdout",
          "text": [
            "8\n"
          ]
        }
      ]
    },
    {
      "cell_type": "markdown",
      "source": [
        " 5. What are iterators in Python and how do they differ from iterables?\n",
        " - In Python, iterables and iterators are related but different concepts.\n",
        "  -  Iterable\n",
        "An object capable of returning its elements one at a time.\n",
        " - list, tuple, str, dict, set, etc., are all iterables.\n",
        "\n",
        " - You can get an iterator from an iterable using iter().\n"
      ],
      "metadata": {
        "id": "ZMuVNGDwMYEy"
      }
    },
    {
      "cell_type": "code",
      "source": [
        "my_list = [1, 2, 3]\n",
        "it = iter(my_list)  # Convert iterable to iterator\n",
        "\n",
        "print(next(it))  # Output: 1\n",
        "print(next(it))  # Output: 2\n",
        "print(next(it))  # Output: 3\n",
        "# print(next(it))  # Raises StopIteration\n",
        "\n"
      ],
      "metadata": {
        "colab": {
          "base_uri": "https://localhost:8080/"
        },
        "id": "wqNDA8DuNT9_",
        "outputId": "d45b6bf5-1618-4b3d-c680-1b4d73c38987"
      },
      "execution_count": null,
      "outputs": [
        {
          "output_type": "stream",
          "name": "stdout",
          "text": [
            "1\n",
            "2\n",
            "3\n"
          ]
        }
      ]
    },
    {
      "cell_type": "markdown",
      "source": [
        " 6. Explain the concept of generators in Python and how they are defined.\n",
        " - In Python, generators are a special type of iterator that allow you to generate values on the fly instead of storing them all in memory. They are very useful for working with large datasets or infinite sequences.\n",
        " - A generator is a function that uses the yield keyword to return values one at a time as an iterator, instead of computing them all at once.\n",
        "\n",
        " - How to Define a Generator\n",
        " 1. Using a Function with yield\n",
        "  This function returns a generator object that yields values from n to 1."
      ],
      "metadata": {
        "id": "Wh3sZHAMNY_g"
      }
    },
    {
      "cell_type": "code",
      "source": [
        "def even_numbers(n):\n",
        "    for i in range(n):\n",
        "        if i % 2 == 0:\n",
        "            yield i\n",
        "\n",
        "for num in even_numbers(10):\n",
        "    print(num)\n"
      ],
      "metadata": {
        "colab": {
          "base_uri": "https://localhost:8080/"
        },
        "id": "LSxxp5BJOVwQ",
        "outputId": "a5fd11bd-bc72-4855-b282-339e1b25894f"
      },
      "execution_count": null,
      "outputs": [
        {
          "output_type": "stream",
          "name": "stdout",
          "text": [
            "0\n",
            "2\n",
            "4\n",
            "6\n",
            "8\n"
          ]
        }
      ]
    },
    {
      "cell_type": "markdown",
      "source": [
        " 7. What are the advantages of using generators over regular functions?\n",
        "  - Generators offer several advantages over regular functions—especially when dealing with large data, infinite sequences, or when performance and memory are important.\n",
        "\n",
        "     Here’s a breakdown of the main be\n",
        " 1. Advantages of Generators Over Regular Functions\n",
        "🔹 1. Memory Efficiency\n",
        "Regular functions return all values at once, which can use a lot of memory.\n",
        "\n",
        "Generators produce one value at a time, on demand.\n",
        "\n",
        " 2. Lazy Evaluation  \n",
        " - Values are computed only when needed, not in advance.\n",
        "\n",
        "- This improves performance and reduces initial load time.\n",
        " 3. Can Handle Infinite Sequences\n",
        "- Generators can represent sequences that never end, unlike regular functions.\n",
        " 4. Simpler Code for Iteration\n",
        "- Generators make code cleaner and more readable for iterating logic.\n",
        "  5. State Preservation\n",
        "- Generators remember their state between yields without needing external variables or manual state tracking.\n",
        "\n",
        "\n"
      ],
      "metadata": {
        "id": "6ktgrJIaOafX"
      }
    },
    {
      "cell_type": "code",
      "source": [
        "def infinite_counter():\n",
        "    n = 0\n",
        "    while True:\n",
        "        yield n\n",
        "        n += 1\n"
      ],
      "metadata": {
        "id": "NxdDMwFHPjo5"
      },
      "execution_count": null,
      "outputs": []
    },
    {
      "cell_type": "markdown",
      "source": [
        " 8. What is a lambda function in Python and when is it typically used?\n",
        " - A lambda function in Python is a small anonymous function defined using the lambda keyword instead of def.\n",
        "\n",
        "   It is often used for short, simple operations that are used temporarily or only once, typically when passing a function as an argument.\n",
        "\n"
      ],
      "metadata": {
        "id": "BkSy3jyMPntP"
      }
    },
    {
      "cell_type": "code",
      "source": [
        "# Regular function\n",
        "def square(x):\n",
        "    return x * x\n",
        "\n",
        "# Lambda function\n",
        "square = lambda x: x * x\n",
        "\n",
        "print(square(5))  # Output: 25\n"
      ],
      "metadata": {
        "colab": {
          "base_uri": "https://localhost:8080/"
        },
        "id": "BfhgZAhmP9ha",
        "outputId": "bb581b99-2186-45c2-998b-1870d426fd79"
      },
      "execution_count": null,
      "outputs": [
        {
          "output_type": "stream",
          "name": "stdout",
          "text": [
            "25\n"
          ]
        }
      ]
    },
    {
      "cell_type": "markdown",
      "source": [
        " 9. Explain the purpose and usage of the `map()` function in Python.\n",
        " - The map() function is a built-in Python function used to apply a function to every item in an iterable (like a list, tuple, etc.) and return a new iterator with the results.\n",
        "\n",
        " -  Purpose of map()\n",
        "   \n",
        "   To transform each item in a collection without using a loop.\n",
        "\n",
        "   Often used with lambda functions for quick, one-line transformations.\n",
        "\n"
      ],
      "metadata": {
        "id": "IpTjGElBQAvS"
      }
    },
    {
      "cell_type": "code",
      "source": [
        "def square(x):\n",
        "    return x * x\n",
        "\n",
        "numbers = [1, 2, 3, 4]\n",
        "squared = map(square, numbers)\n",
        "print(list(squared))  # Output: [1, 4, 9, 16]\n",
        "\n"
      ],
      "metadata": {
        "id": "qCJvHoyUQfHL"
      },
      "execution_count": null,
      "outputs": []
    },
    {
      "cell_type": "markdown",
      "source": [
        " 10. What is the difference between `map()`, `reduce()`, and `filter()` functions in Python?\n",
        " - In Python, map(), filter(), and reduce() are functional programming tools used to process iterables. Though they may look similar, they serve different purposes.\n",
        "\n",
        " 1. map(function, iterable)\n",
        "   \n",
        "  Applies the function to each item.\n",
        "\n",
        "   Returns a map object (an iterator).\n",
        "\n",
        " 2. filter(function, iterable)\n",
        "     \n",
        "     Filters items for which the function returns True.\n",
        "\n",
        "   Returns a filter object (an iterator).\n",
        "  \n",
        "3. reduce(function, iterable)\n",
        "\n",
        "  Combines items into a single result.\n",
        "\n",
        "  Must be imported from functools.\n",
        "\n",
        "  "
      ],
      "metadata": {
        "id": "03gG35ozQjTw"
      }
    },
    {
      "cell_type": "code",
      "source": [
        "nums = [1, 2, 3]\n",
        "squared = list(map(lambda x: x**2, nums))\n",
        "print(squared)  # [1, 4, 9]\n",
        "\n"
      ],
      "metadata": {
        "colab": {
          "base_uri": "https://localhost:8080/"
        },
        "id": "CRJXgpDSRgm_",
        "outputId": "2689296b-e801-465e-c001-d42d2d303c99"
      },
      "execution_count": null,
      "outputs": [
        {
          "output_type": "stream",
          "name": "stdout",
          "text": [
            "[1, 4, 9]\n"
          ]
        }
      ]
    },
    {
      "cell_type": "markdown",
      "source": [
        "11. Using pen & Paper write the internal mechanism for sum operation using  reduce function on this given  list:[47,11,42,13];\n",
        "-  the internal mechanism of how the reduce() function performs the sum operation on the list [47, 11, 42, 13] using pen and paper style logic.\n",
        "  \n",
        "   Given:\n",
        "\n",
        "\n",
        "  - from functools import reduce\n",
        "nums = [47, 11, 42, 13]\n",
        "reduce(lambda x, y: x + y, nums)"
      ],
      "metadata": {
        "id": "u5C86hgSR3s_"
      }
    },
    {
      "cell_type": "code",
      "source": [
        "Step 1: Take the first two elements\n",
        "         x = 47\n",
        "         y = 11\n",
        "         result = x + y = 58\n",
        "\n",
        "Step 2: Use the result with the next element\n",
        "         x = 58\n",
        "         y = 42\n",
        "         result = x + y = 100\n",
        "\n",
        "Step 3: Use the result with the next element\n",
        "         x = 100\n",
        "         y = 13\n",
        "         result = x + y = 113\n"
      ],
      "metadata": {
        "colab": {
          "base_uri": "https://localhost:8080/",
          "height": 110
        },
        "id": "MQxyhya56Y-R",
        "outputId": "9c59b86e-95d3-4da3-d957-a15a9300e108"
      },
      "execution_count": null,
      "outputs": [
        {
          "output_type": "error",
          "ename": "SyntaxError",
          "evalue": "invalid syntax (ipython-input-1-848092652.py, line 1)",
          "traceback": [
            "\u001b[0;36m  File \u001b[0;32m\"/tmp/ipython-input-1-848092652.py\"\u001b[0;36m, line \u001b[0;32m1\u001b[0m\n\u001b[0;31m    Step 1: Take the first two elements\u001b[0m\n\u001b[0m         ^\u001b[0m\n\u001b[0;31mSyntaxError\u001b[0m\u001b[0;31m:\u001b[0m invalid syntax\n"
          ]
        }
      ]
    },
    {
      "cell_type": "markdown",
      "source": [
        "#Practical Questions:\n"
      ],
      "metadata": {
        "id": "_AWe9-wd6bH1"
      }
    },
    {
      "cell_type": "markdown",
      "source": [
        " 1. Write a Python function that takes a list of numbers as input and returns the sum of all even numbers in the list.\n",
        "  -  Here's a Python function that takes a list of numbers as input and returns the sum of all even numbers in the list:\n",
        "  \n"
      ],
      "metadata": {
        "id": "olFX0NtS6iPG"
      }
    },
    {
      "cell_type": "code",
      "source": [
        "def sum_of_even_numbers(numbers):\n",
        "    even_sum = 0\n",
        "    for num in numbers:\n",
        "        if num % 2 == 0:\n",
        "            even_sum += num\n",
        "    return even_sum\n"
      ],
      "metadata": {
        "id": "5glm2mmL7CQT"
      },
      "execution_count": null,
      "outputs": []
    },
    {
      "cell_type": "code",
      "source": [
        "my_list = [10, 3, 4, 7, 8, 5]\n",
        "result = sum_of_even_numbers(my_list)\n",
        "print(\"Sum of even numbers:\", result)\n"
      ],
      "metadata": {
        "id": "RRfjEjYo7KOL"
      },
      "execution_count": null,
      "outputs": []
    },
    {
      "cell_type": "markdown",
      "source": [
        "2. Create a Python function that accepts a string and returns the reverse of that string.\n",
        " -  Here's a simple Python function that accepts a string and returns its reverse:\n",
        "\n"
      ],
      "metadata": {
        "id": "1FT8sLNa7OL-"
      }
    },
    {
      "cell_type": "code",
      "source": [
        "def reverse_string(text):\n",
        "    return text[::-1]\n"
      ],
      "metadata": {
        "id": "hvwCYPxM7YOy"
      },
      "execution_count": null,
      "outputs": []
    },
    {
      "cell_type": "markdown",
      "source": [
        "3. Implement a Python function that takes a list of integers and returns a new list containing the squares of\n",
        "each number.\n",
        " - Here's a Python function that takes a list of integers and returns a new list containing the squares of each number:\n",
        "\n",
        "**bold text**"
      ],
      "metadata": {
        "id": "XQUwmhLC7ihI"
      }
    },
    {
      "cell_type": "code",
      "source": [
        "def square_list(numbers):\n",
        "    squared = []\n",
        "    for num in numbers:\n",
        "        squared.append(num ** 2)\n",
        "    return squared\n",
        "\n"
      ],
      "metadata": {
        "id": "jftBULzP7yvl"
      },
      "execution_count": null,
      "outputs": []
    },
    {
      "cell_type": "markdown",
      "source": [
        "4. Write a Python function that checks if a given number is prime or not from 1 to 200.\n",
        "- Here's a Python function that checks if a given number from 1 to 200 is prime or not:\n",
        "\n"
      ],
      "metadata": {
        "id": "uGT-OgY170xu"
      }
    },
    {
      "cell_type": "code",
      "source": [
        "def is_prime(n):\n",
        "    if n < 2:\n",
        "        return False  # 0 and 1 are not prime\n",
        "    for i in range(2, int(n ** 0.5) + 1):  # check up to square root of n\n",
        "        if n % i == 0:\n",
        "            return False\n",
        "    return True\n"
      ],
      "metadata": {
        "id": "WXlQCPRA8iul"
      },
      "execution_count": null,
      "outputs": []
    },
    {
      "cell_type": "markdown",
      "source": [
        "5. Create an iterator class in Python that generates the Fibonacci sequence up to a specified number of terms.\n",
        "- Certainly! Here's how you can create a custom iterator class in Python that generates the Fibonacci sequence up to a specified number of terms:"
      ],
      "metadata": {
        "id": "eMvpZXf38lkz"
      }
    },
    {
      "cell_type": "code",
      "source": [
        "class FibonacciIterator:\n",
        "    def __init__(self, max_terms):\n",
        "        self.max_terms = max_terms  # Total number of terms\n",
        "        self.count = 0              # Current count\n",
        "        self.a, self.b = 0, 1       # First two Fibonacci numbers\n",
        "\n",
        "    def __iter__(self):\n",
        "        return self  # Iterator must return itself\n",
        "\n",
        "    def __next__(self):\n",
        "        if self.count >= self.max_terms:\n",
        "            raise StopIteration  # Stop when max terms reached\n",
        "        if self.count == 0:\n",
        "            self.count += 1\n",
        "            return 0\n",
        "        elif self.count == 1:\n",
        "            self.count += 1\n",
        "            return 1\n",
        "        else:\n",
        "            fib = self.a + self.b\n",
        "            self.a, self.b = self.b, fib\n",
        "            self.count += 1\n",
        "            return fib\n"
      ],
      "metadata": {
        "id": "sKEc8Wb_8wmP"
      },
      "execution_count": null,
      "outputs": []
    },
    {
      "cell_type": "markdown",
      "source": [
        " 6. Write a generator function in Python that yields the powers of 2 up to a given exponent.\n",
        " - Certainly! Here's a generator function in Python that yields powers of 2 up to a given exponent:\n",
        "\n"
      ],
      "metadata": {
        "id": "5xdcd0zJ80dY"
      }
    },
    {
      "cell_type": "code",
      "source": [
        "def powers_of_two(max_exponent):\n",
        "    for exp in range(max_exponent + 1):\n",
        "        yield 2 ** exp\n"
      ],
      "metadata": {
        "id": "zu5Duf0n890F"
      },
      "execution_count": null,
      "outputs": []
    },
    {
      "cell_type": "markdown",
      "source": [
        "7. Implement a generator function that reads a file line by line and yields each line as a string.\n",
        "- Absolutely! Here's a generator function in Python that reads a file line by line and yields each line as a string:\n",
        "\n"
      ],
      "metadata": {
        "id": "o5og8mk49AUC"
      }
    },
    {
      "cell_type": "code",
      "source": [
        "def read_file_line_by_line(file_path):\n",
        "    with open(file_path, 'r') as file:\n",
        "        for line in file:\n",
        "            yield line.strip()  # strip() removes newline characters\n"
      ],
      "metadata": {
        "id": "EWQSijwu9Myx"
      },
      "execution_count": null,
      "outputs": []
    },
    {
      "cell_type": "markdown",
      "source": [
        " 8. Use a lambda function in Python to sort a list of tuples based on the second element of each tuple.\n",
        " - Sure! Here's how you can use a lambda function in Python to sort a list of tuples based on the second element of each tuple:\n"
      ],
      "metadata": {
        "id": "9UL_y0LK9PQw"
      }
    },
    {
      "cell_type": "code",
      "source": [
        "# List of tuples\n",
        "data = [(1, 5), (3, 2), (4, 9), (2, 1)]\n",
        "\n",
        "# Sort based on the second element (index 1)\n",
        "sorted_data = sorted(data, key=lambda x: x[1])\n",
        "\n",
        "print(\"Sorted list:\", sorted_data)\n"
      ],
      "metadata": {
        "id": "z-hdc5Gv9bB0"
      },
      "execution_count": null,
      "outputs": []
    },
    {
      "cell_type": "code",
      "source": [
        "Sorted list: [(2, 1), (3, 2), (1, 5), (4, 9)]\n"
      ],
      "metadata": {
        "id": "h2lBwHbT9gyW"
      },
      "execution_count": null,
      "outputs": []
    },
    {
      "cell_type": "markdown",
      "source": [
        "9. Write a Python program that uses `map()` to convert a list of temperatures from Celsius to Fahrenheit.\n",
        "- Certainly! Here's a Python program that uses the map() function to convert a list of temperatures from Celsius to Fahrenheit:\n",
        "\n",
        "   To convert Celsius to Fahrenheit:\n",
        "\n",
        "\n",
        "     F = (C × 9/5) + 32"
      ],
      "metadata": {
        "id": "4yj_8-5F9jIT"
      }
    },
    {
      "cell_type": "code",
      "source": [
        "# List of temperatures in Celsius\n",
        "celsius = [0, 20, 30, 37, 100]\n",
        "\n",
        "# Use map() with lambda to convert to Fahrenheit\n",
        "fahrenheit = list(map(lambda c: (c * 9/5) + 32, celsius))\n",
        "\n",
        "# Print results\n",
        "print(\"Celsius:    \", celsius)\n",
        "print(\"Fahrenheit: \", fahrenheit)\n"
      ],
      "metadata": {
        "id": "kuMXpydK9uMM"
      },
      "execution_count": null,
      "outputs": []
    },
    {
      "cell_type": "markdown",
      "source": [
        "10. Create a Python program that uses `filter()` to remove all the vowels from a given string.\n",
        "- Here's a Python program that uses the filter() function to remove all vowels from a given string:\n",
        "\n"
      ],
      "metadata": {
        "id": "jvUSJNrB-MmO"
      }
    },
    {
      "cell_type": "code",
      "source": [
        "def remove_vowels(text):\n",
        "    vowels = \"aeiouAEIOU\"\n",
        "    return ''.join(filter(lambda char: char not in vowels, text))\n"
      ],
      "metadata": {
        "id": "KjU77Zga-ZGJ"
      },
      "execution_count": null,
      "outputs": []
    },
    {
      "cell_type": "markdown",
      "source": [
        " 11) Imagine an accounting routine used in a book shop. It works on a list with sublists, which look like this:\n",
        "\n",
        " - Order Number\n",
        "34587                                     \n",
        "98762\n",
        "77226\n",
        "88112\n",
        "Book Title and Author  Learning Python, Mark Lutz\n",
        "Programming Python, Mark Lutz Head First Python, Paul Barry\n",
        "Einführung in Python3, Bernd Klein\n",
        "Quantity\n",
        "4\n",
        "5\n",
        "3\n",
        "3\n",
        "Price per Item\n",
        "40.95\n",
        "56.80\n",
        "32.95\n",
        "24.99\n",
        "\n",
        "     \n",
        "     \n",
        "     \n",
        "  Write a Python program, which returns a list with 2-tuples. Each tuple consists of the order number and the\n",
        "product of the price per item and the quantity. The product should be increased by 10,- € if the value of the\n",
        "order is smaller than 100,00 €.\n",
        " Write a Python program using lambda and map"
      ],
      "metadata": {
        "id": "86Gk1Jqy-i3X"
      }
    },
    {
      "cell_type": "markdown",
      "source": [
        "- Here's how you can write a Python program that processes book orders as described, using lambda and map() to return a list of 2-tuples with:\n",
        "\n",
        "   The order number\n",
        "\n",
        "   The total cost (price × quantity, with a €10 surcharge if total is less than €100)\n",
        "     Order Number,Book Title and Author,Quantity,Price per Item (USD),Total Price (USD)\n",
        "34587,Learning Python, Mark Lutz,4,40.95,163.80\n",
        "98762,Programming Python, Mark Lutz,5,56.80,284.00\n",
        "77226,Head First Python, Paul Barry,3,32.95,98.85\n",
        "88112,Einführung in Python3, Bernd Klein,3,24.99,74.97\n",
        "\n"
      ],
      "metadata": {
        "id": "Ywj4YBAOFZMP"
      }
    },
    {
      "cell_type": "code",
      "source": [
        "# Define the map logic with lambda\n",
        "result = list(map(\n",
        "    lambda order: (order[0], round(order[2] * order[3] + (10 if order[2] * order[3] < 100 else 0), 2)),\n",
        "    orders\n",
        "))\n",
        "\n",
        "# Print result\n",
        "print(result)\n"
      ],
      "metadata": {
        "id": "La2xCDrzGAKU"
      },
      "execution_count": null,
      "outputs": []
    },
    {
      "cell_type": "code",
      "source": [
        "orders = [\n",
        "    [34587, 'Learning Python, Mark Lutz', 4, 40.95],\n",
        "    [98762, 'Programming Python, Mark Lutz', 5, 56.80],\n",
        "    [77226, 'Head First Python, Paul Barry', 3, 32.95],\n",
        "    [88112, 'Einführung in Python3, Bernd Klein', 3, 24.99]\n",
        "]\n"
      ],
      "metadata": {
        "id": "pas2x2-CGNS4"
      },
      "execution_count": null,
      "outputs": []
    }
  ]
}